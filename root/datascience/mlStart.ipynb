{
 "cells": [
  {
   "cell_type": "code",
   "execution_count": 12,
   "metadata": {},
   "outputs": [
    {
     "name": "stdout",
     "output_type": "stream",
     "text": [
      "We are going to begining now\n"
     ]
    }
   ],
   "source": [
    "#we will use my own created dataset  to check some ml stafss\n",
    "import seaborn as sns\n",
    "import pandas as pd\n",
    "import numpy as np\n",
    "import matplotlib.pyplot as plt\n",
    "print(\"We are going to begining now\")"
   ]
  },
  {
   "cell_type": "code",
   "execution_count": 33,
   "metadata": {},
   "outputs": [
    {
     "data": {
      "text/plain": [
       "<matplotlib.collections.PathCollection at 0x7fd89b2d25d0>"
      ]
     },
     "execution_count": 33,
     "metadata": {},
     "output_type": "execute_result"
    },
    {
     "data": {
      "image/png": "[encoded data removed]",
      "text/plain": [
       "<Figure size 432x288 with 1 Axes>"
      ]
     },
     "metadata": {
      "needs_background": "light"
     },
     "output_type": "display_data"
    }
   ],
   "source": [
    "#generate object that will gives us the numbers trend\n",
    "obj = np.random.RandomState(75)\n",
    "#values for x axis\n",
    "x = 10 * obj.rand(100)\n",
    "#values for the y axis\n",
    "y = 2 * x - 1 + obj.randn(100)\n",
    "#prot the graph\n",
    "plt.scatter(x, y)"
   ]
  },
  {
   "cell_type": "code",
   "execution_count": 34,
   "metadata": {},
   "outputs": [
    {
     "data": {
      "text/plain": [
       "array([5.6894022 , 0.65964228, 8.8811067 , 9.29658177, 6.79692041,\n",
       "       5.44275816, 1.87849342, 6.18263462, 3.74127768, 9.33582168,\n",
       "       6.48141202, 6.71791177, 9.31573568, 6.69988085, 2.32124511,\n",
       "       2.55834351, 2.24991824, 0.80700655, 1.84000242, 7.24949368,\n",
       "       9.98930636, 1.43170115, 2.20721499, 2.78452952, 7.4705776 ,\n",
       "       9.80481986, 7.77995092, 6.95142828, 9.48454942, 0.77848262,\n",
       "       2.10065273, 6.65478851, 7.99375325, 6.38341854, 0.33298997,\n",
       "       2.85192869, 0.85188171, 8.75270334, 9.54721208, 7.28412663,\n",
       "       0.25266518, 7.55610647, 8.91806508, 2.6521018 , 9.31366925,\n",
       "       4.07571729, 4.15168765, 1.97920908, 9.85660032, 3.13294603,\n",
       "       1.79025975, 0.11494983, 8.01645974, 5.03879148, 4.68128573,\n",
       "       7.79448951, 2.83495744, 1.08364431, 8.81750006, 9.40719702,\n",
       "       6.01796065, 6.44337316, 4.99439359, 7.3204298 , 9.59019363,\n",
       "       5.31294845, 8.03713181, 4.87282625, 7.6201435 , 5.95176719,\n",
       "       4.72766934, 4.86902723, 4.74805382, 4.26034765, 7.898234  ,\n",
       "       1.17060778, 1.33554387, 3.40506079, 1.28889248, 7.02774186,\n",
       "       5.85933492, 2.90146219, 5.35090864, 8.08623197, 5.81027123,\n",
       "       0.86657674, 4.40198792, 1.91628779, 7.26702414, 9.65195139,\n",
       "       5.66010839, 6.64088172, 3.62928563, 2.54172649, 1.75250803,\n",
       "       1.07374515, 6.49678759, 4.9618824 , 0.97694871, 0.14755839])"
      ]
     },
     "execution_count": 34,
     "metadata": {},
     "output_type": "execute_result"
    }
   ],
   "source": [
    "#check the x values\n",
    "x"
   ]
  },
  {
   "cell_type": "code",
   "execution_count": 35,
   "metadata": {},
   "outputs": [
    {
     "data": {
      "text/plain": [
       "array([ 1.08260831e+01,  3.63031383e+00,  1.53729892e+01,  1.87770576e+01,\n",
       "        1.26013710e+01,  1.08013474e+01,  2.20228515e+00,  9.81744194e+00,\n",
       "        6.48092747e+00,  1.61297240e+01,  1.14495952e+01,  1.27010010e+01,\n",
       "        1.72095361e+01,  1.31680897e+01,  5.69298064e+00,  4.99320878e+00,\n",
       "        3.58798622e+00,  7.50856275e-03,  3.71367691e+00,  1.21862908e+01,\n",
       "        1.84944864e+01,  4.22257624e-01,  2.55783241e+00,  5.21083392e+00,\n",
       "        1.52859911e+01,  1.90436974e+01,  1.47738273e+01,  1.31184751e+01,\n",
       "        1.85255542e+01,  2.06640420e+00,  3.12854320e+00,  1.27334807e+01,\n",
       "        1.47432368e+01,  1.26226562e+01,  1.07102665e+00,  5.25510025e+00,\n",
       "       -2.05694744e-01,  1.71115119e+01,  1.75067643e+01,  1.23852795e+01,\n",
       "       -1.74989018e-01,  1.48462094e+01,  1.71427930e+01,  3.85784244e+00,\n",
       "        1.78982041e+01,  7.70745331e+00,  6.55350339e+00,  5.92495942e+00,\n",
       "        1.82704234e+01,  5.15551679e+00,  2.31528851e+00, -4.79480918e-01,\n",
       "        1.44925910e+01,  7.44382025e+00,  1.06738749e+01,  1.49845825e+01,\n",
       "        5.80202956e+00,  1.81604041e+00,  1.68098567e+01,  1.65265989e+01,\n",
       "        1.06393611e+01,  1.15928564e+01,  8.24596089e+00,  1.39765066e+01,\n",
       "        1.85192004e+01,  9.79087119e+00,  1.39247740e+01,  6.27183478e+00,\n",
       "        1.42150695e+01,  1.14057257e+01,  9.28640540e+00,  9.08348147e+00,\n",
       "        9.17906874e+00,  6.45043978e+00,  1.73581002e+01,  1.47604373e-01,\n",
       "        1.18710976e+00,  7.27913454e+00,  1.03252827e+00,  1.14436606e+01,\n",
       "        1.02938398e+01,  5.32349224e+00,  1.03905286e+01,  1.61969467e+01,\n",
       "        1.04414701e+01, -2.86398769e-01,  5.90820690e+00,  2.40631086e+00,\n",
       "        1.31153964e+01,  1.69628032e+01,  1.01406461e+01,  1.23923243e+01,\n",
       "        5.71902508e+00,  2.84183410e+00,  2.69952351e+00,  8.34389188e-01,\n",
       "        1.11809134e+01,  8.21072189e+00,  1.72937372e+00, -3.79901979e-01])"
      ]
     },
     "execution_count": 35,
     "metadata": {},
     "output_type": "execute_result"
    }
   ],
   "source": [
    "#check the values for the y axis\n",
    "y"
   ]
  },
  {
   "cell_type": "code",
   "execution_count": 36,
   "metadata": {},
   "outputs": [],
   "source": [
    "#lets start doing regressing by importing it\n",
    "from sklearn.linear_model import LinearRegression\n",
    "#creates the object for the data through initialization and should have the intercepts\n",
    "object = LinearRegression(fit_intercept=True)"
   ]
  },
  {
   "cell_type": "code",
   "execution_count": 37,
   "metadata": {},
   "outputs": [
    {
     "data": {
      "text/plain": [
       "(100, 1)"
      ]
     },
     "execution_count": 37,
     "metadata": {},
     "output_type": "execute_result"
    }
   ],
   "source": [
    "#lets reshape the data because its of just one features from all 50 samples\n",
    "#thus we make it an n by 1 matrix\n",
    "dataX = x[:, np.newaxis]\n",
    "dataX.shape"
   ]
  },
  {
   "cell_type": "code",
   "execution_count": 40,
   "metadata": {},
   "outputs": [
    {
     "data": {
      "text/plain": [
       "LinearRegression(copy_X=True, fit_intercept=True, n_jobs=None, normalize=False)"
      ]
     },
     "execution_count": 40,
     "metadata": {},
     "output_type": "execute_result"
    }
   ],
   "source": [
    "#y is in correct order ,,lets fit for a graph\n",
    "# this will return our objects results\n",
    "object.fit(dataX, y)"
   ]
  },
  {
   "cell_type": "code",
   "execution_count": 41,
   "metadata": {},
   "outputs": [
    {
     "data": {
      "text/plain": [
       "array([1.95089154])"
      ]
     },
     "execution_count": 41,
     "metadata": {},
     "output_type": "execute_result"
    }
   ],
   "source": [
    "#lets get the coefficient of the variable in our model objects\n",
    "object.coef_"
   ]
  },
  {
   "cell_type": "code",
   "execution_count": 42,
   "metadata": {},
   "outputs": [
    {
     "data": {
      "text/plain": [
       "-0.7291035517267002"
      ]
     },
     "execution_count": 42,
     "metadata": {},
     "output_type": "execute_result"
    }
   ],
   "source": [
    "#lets then get the intercept for our data\n",
    "object.intercept_"
   ]
  },
  {
   "cell_type": "code",
   "execution_count": 54,
   "metadata": {},
   "outputs": [
    {
     "data": {
      "text/plain": [
       "array([-1.        , -0.85714286, -0.71428571, -0.57142857, -0.42857143,\n",
       "       -0.28571429, -0.14285714,  0.        ,  0.14285714,  0.28571429,\n",
       "        0.42857143,  0.57142857,  0.71428571,  0.85714286,  1.        ,\n",
       "        1.14285714,  1.28571429,  1.42857143,  1.57142857,  1.71428571,\n",
       "        1.85714286,  2.        ,  2.14285714,  2.28571429,  2.42857143,\n",
       "        2.57142857,  2.71428571,  2.85714286,  3.        ,  3.14285714,\n",
       "        3.28571429,  3.42857143,  3.57142857,  3.71428571,  3.85714286,\n",
       "        4.        ,  4.14285714,  4.28571429,  4.42857143,  4.57142857,\n",
       "        4.71428571,  4.85714286,  5.        ,  5.14285714,  5.28571429,\n",
       "        5.42857143,  5.57142857,  5.71428571,  5.85714286,  6.        ])"
      ]
     },
     "execution_count": 54,
     "metadata": {},
     "output_type": "execute_result"
    }
   ],
   "source": [
    "# This shows that coeffiecient value is approximately 2 and intercept is -1.12\n",
    "# Since we have trained our model...lets use another data to make prediction\n",
    "xPredict = np.linspace(-1, 11)\n",
    "xPredict"
   ]
  },
  {
   "cell_type": "code",
   "execution_count": 55,
   "metadata": {},
   "outputs": [
    {
     "data": {
      "text/plain": [
       "array([[-1.        ],\n",
       "       [-0.85714286],\n",
       "       [-0.71428571],\n",
       "       [-0.57142857],\n",
       "       [-0.42857143],\n",
       "       [-0.28571429],\n",
       "       [-0.14285714],\n",
       "       [ 0.        ],\n",
       "       [ 0.14285714],\n",
       "       [ 0.28571429],\n",
       "       [ 0.42857143],\n",
       "       [ 0.57142857],\n",
       "       [ 0.71428571],\n",
       "       [ 0.85714286],\n",
       "       [ 1.        ],\n",
       "       [ 1.14285714],\n",
       "       [ 1.28571429],\n",
       "       [ 1.42857143],\n",
       "       [ 1.57142857],\n",
       "       [ 1.71428571],\n",
       "       [ 1.85714286],\n",
       "       [ 2.        ],\n",
       "       [ 2.14285714],\n",
       "       [ 2.28571429],\n",
       "       [ 2.42857143],\n",
       "       [ 2.57142857],\n",
       "       [ 2.71428571],\n",
       "       [ 2.85714286],\n",
       "       [ 3.        ],\n",
       "       [ 3.14285714],\n",
       "       [ 3.28571429],\n",
       "       [ 3.42857143],\n",
       "       [ 3.57142857],\n",
       "       [ 3.71428571],\n",
       "       [ 3.85714286],\n",
       "       [ 4.        ],\n",
       "       [ 4.14285714],\n",
       "       [ 4.28571429],\n",
       "       [ 4.42857143],\n",
       "       [ 4.57142857],\n",
       "       [ 4.71428571],\n",
       "       [ 4.85714286],\n",
       "       [ 5.        ],\n",
       "       [ 5.14285714],\n",
       "       [ 5.28571429],\n",
       "       [ 5.42857143],\n",
       "       [ 5.57142857],\n",
       "       [ 5.71428571],\n",
       "       [ 5.85714286],\n",
       "       [ 6.        ]])"
      ]
     },
     "execution_count": 55,
     "metadata": {},
     "output_type": "execute_result"
    }
   ],
   "source": [
    "# Change this to a n by 1 matrix\n",
    "xSample = xPredict[:, np.newaxis]\n",
    "xSample"
   ]
  },
  {
   "cell_type": "code",
   "execution_count": 57,
   "metadata": {},
   "outputs": [
    {
     "data": {
      "text/plain": [
       "array([-2.67999509, -2.4012963 , -2.12259751, -1.84389872, -1.56519993,\n",
       "       -1.28650114, -1.00780234, -0.72910355, -0.45040476, -0.17170597,\n",
       "        0.10699282,  0.38569161,  0.66439041,  0.9430892 ,  1.22178799,\n",
       "        1.50048678,  1.77918557,  2.05788436,  2.33658316,  2.61528195,\n",
       "        2.89398074,  3.17267953,  3.45137832,  3.73007711,  4.00877591,\n",
       "        4.2874747 ,  4.56617349,  4.84487228,  5.12357107,  5.40226986,\n",
       "        5.68096866,  5.95966745,  6.23836624,  6.51706503,  6.79576382,\n",
       "        7.07446261,  7.35316141,  7.6318602 ,  7.91055899,  8.18925778,\n",
       "        8.46795657,  8.74665536,  9.02535416,  9.30405295,  9.58275174,\n",
       "        9.86145053, 10.14014932, 10.41884811, 10.69754691, 10.9762457 ])"
      ]
     },
     "execution_count": 57,
     "metadata": {},
     "output_type": "execute_result"
    }
   ],
   "source": [
    "#lets feed our data to our model for prediction  of y values\n",
    "yPredict = object.predict(xSample)\n",
    "yPredict"
   ]
  },
  {
   "cell_type": "code",
   "execution_count": 58,
   "metadata": {},
   "outputs": [
    {
     "data": {
      "text/plain": [
       "[<matplotlib.lines.Line2D at 0x7fd89a8a6910>]"
      ]
     },
     "execution_count": 58,
     "metadata": {},
     "output_type": "execute_result"
    },
    {
     "data": {
      "image/png": "[encoded data removed]",
      "text/plain": [
       "<Figure size 432x288 with 1 Axes>"
      ]
     },
     "metadata": {
      "needs_background": "light"
     },
     "output_type": "display_data"
    }
   ],
   "source": [
    "#we have predicteed y values for unploted data..\n",
    "#lets plot both original and predict data to see comparisons\n",
    "#we plot scatter plots for our original data\n",
    "plt.scatter(x, y)\n",
    "#we plot line plots for our newly predicted data data\n",
    "plt.plot(xPredict, yPredict)"
   ]
  },
  {
   "cell_type": "code",
   "execution_count": null,
   "metadata": {},
   "outputs": [],
   "source": [
    "\n"
   ]
  },
  {
   "cell_type": "code",
   "execution_count": null,
   "metadata": {},
   "outputs": [],
   "source": []
  },
  {
   "cell_type": "code",
   "execution_count": null,
   "metadata": {},
   "outputs": [],
   "source": []
  },
  {
   "cell_type": "code",
   "execution_count": null,
   "metadata": {},
   "outputs": [],
   "source": []
  },
  {
   "cell_type": "code",
   "execution_count": null,
   "metadata": {},
   "outputs": [],
   "source": []
  },
  {
   "cell_type": "code",
   "execution_count": null,
   "metadata": {},
   "outputs": [],
   "source": []
  },
  {
   "cell_type": "code",
   "execution_count": null,
   "metadata": {},
   "outputs": [],
   "source": []
  },
  {
   "cell_type": "code",
   "execution_count": null,
   "metadata": {},
   "outputs": [],
   "source": []
  },
  {
   "cell_type": "code",
   "execution_count": null,
   "metadata": {},
   "outputs": [],
   "source": []
  },
  {
   "cell_type": "code",
   "execution_count": null,
   "metadata": {},
   "outputs": [],
   "source": []
  },
  {
   "cell_type": "code",
   "execution_count": null,
   "metadata": {},
   "outputs": [],
   "source": []
  },
  {
   "cell_type": "code",
   "execution_count": null,
   "metadata": {},
   "outputs": [],
   "source": []
  },
  {
   "cell_type": "code",
   "execution_count": null,
   "metadata": {},
   "outputs": [],
   "source": []
  },
  {
   "cell_type": "code",
   "execution_count": null,
   "metadata": {},
   "outputs": [],
   "source": []
  },
  {
   "cell_type": "code",
   "execution_count": null,
   "metadata": {},
   "outputs": [],
   "source": []
  },
  {
   "cell_type": "code",
   "execution_count": null,
   "metadata": {},
   "outputs": [],
   "source": []
  },
  {
   "cell_type": "code",
   "execution_count": null,
   "metadata": {},
   "outputs": [],
   "source": []
  },
  {
   "cell_type": "code",
   "execution_count": null,
   "metadata": {},
   "outputs": [],
   "source": []
  },
  {
   "cell_type": "code",
   "execution_count": null,
   "metadata": {},
   "outputs": [],
   "source": []
  },
  {
   "cell_type": "code",
   "execution_count": null,
   "metadata": {},
   "outputs": [],
   "source": []
  },
  {
   "cell_type": "code",
   "execution_count": null,
   "metadata": {},
   "outputs": [],
   "source": []
  }
 ],
 "metadata": {
  "kernelspec": {
   "display_name": "Python 3",
   "language": "python",
   "name": "python3"
  },
  "language_info": {
   "codemirror_mode": {
    "name": "ipython",
    "version": 3
   },
   "file_extension": ".py",
   "mimetype": "text/x-python",
   "name": "python",
   "nbconvert_exporter": "python",
   "pygments_lexer": "ipython3",
   "version": "3.7.4"
  }
 },
 "nbformat": 4,
 "nbformat_minor": 2
}
